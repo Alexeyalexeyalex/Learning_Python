{
 "cells": [
  {
   "cell_type": "code",
   "execution_count": 46,
   "metadata": {},
   "outputs": [
    {
     "name": "stdout",
     "output_type": "stream",
     "text": [
      "[-3/8 - sqrt(121/144 + 4885/(2592*(208045/373248 + 5*sqrt(9048041)*I/20736)**(1/3)) + 2*(208045/373248 + 5*sqrt(9048041)*I/20736)**(1/3))/2 - sqrt(121/72 - 2*(208045/373248 + 5*sqrt(9048041)*I/20736)**(1/3) - 19/(96*sqrt(121/144 + 4885/(2592*(208045/373248 + 5*sqrt(9048041)*I/20736)**(1/3)) + 2*(208045/373248 + 5*sqrt(9048041)*I/20736)**(1/3))) - 4885/(2592*(208045/373248 + 5*sqrt(9048041)*I/20736)**(1/3)))/2, -3/8 + sqrt(121/144 + 4885/(2592*(208045/373248 + 5*sqrt(9048041)*I/20736)**(1/3)) + 2*(208045/373248 + 5*sqrt(9048041)*I/20736)**(1/3))/2 - sqrt(121/72 - 2*(208045/373248 + 5*sqrt(9048041)*I/20736)**(1/3) + 19/(96*sqrt(121/144 + 4885/(2592*(208045/373248 + 5*sqrt(9048041)*I/20736)**(1/3)) + 2*(208045/373248 + 5*sqrt(9048041)*I/20736)**(1/3))) - 4885/(2592*(208045/373248 + 5*sqrt(9048041)*I/20736)**(1/3)))/2, -3/8 + sqrt(121/72 - 2*(208045/373248 + 5*sqrt(9048041)*I/20736)**(1/3) - 19/(96*sqrt(121/144 + 4885/(2592*(208045/373248 + 5*sqrt(9048041)*I/20736)**(1/3)) + 2*(208045/373248 + 5*sqrt(9048041)*I/20736)**(1/3))) - 4885/(2592*(208045/373248 + 5*sqrt(9048041)*I/20736)**(1/3)))/2 - sqrt(121/144 + 4885/(2592*(208045/373248 + 5*sqrt(9048041)*I/20736)**(1/3)) + 2*(208045/373248 + 5*sqrt(9048041)*I/20736)**(1/3))/2, -3/8 + sqrt(121/72 - 2*(208045/373248 + 5*sqrt(9048041)*I/20736)**(1/3) + 19/(96*sqrt(121/144 + 4885/(2592*(208045/373248 + 5*sqrt(9048041)*I/20736)**(1/3)) + 2*(208045/373248 + 5*sqrt(9048041)*I/20736)**(1/3))) - 4885/(2592*(208045/373248 + 5*sqrt(9048041)*I/20736)**(1/3)))/2 + sqrt(121/144 + 4885/(2592*(208045/373248 + 5*sqrt(9048041)*I/20736)**(1/3)) + 2*(208045/373248 + 5*sqrt(9048041)*I/20736)**(1/3))/2]\n"
     ]
    }
   ],
   "source": [
    "import math\n",
    "from sympy import *\n",
    "from sympy.plotting import plot\n",
    "# from numpy import *\n",
    "\n",
    "x = symbols('x')\n",
    "fx = -12*x**4 - 18*x**3+5*x**2 + 10*x - 30\n",
    "# kor1, kor2, kor3, kor4 = solve(fx)\n",
    "print(solve(fx))\n",
    "#Определить корни\n"
   ]
  },
  {
   "cell_type": "code",
   "execution_count": 47,
   "metadata": {},
   "outputs": [
    {
     "data": {
      "text/latex": [
       "$\\displaystyle \\left(-\\infty < x \\wedge x < \\operatorname{CRootOf} {\\left(24 x^{3} + 27 x^{2} - 5 x - 5, 0\\right)}\\right) \\vee \\left(x < \\operatorname{CRootOf} {\\left(24 x^{3} + 27 x^{2} - 5 x - 5, 2\\right)} \\wedge \\operatorname{CRootOf} {\\left(24 x^{3} + 27 x^{2} - 5 x - 5, 1\\right)} < x\\right)$"
      ],
      "text/plain": [
       "((-oo < x) & (x < CRootOf(24*x**3 + 27*x**2 - 5*x - 5, 0))) | ((x < CRootOf(24*x**3 + 27*x**2 - 5*x - 5, 2)) & (CRootOf(24*x**3 + 27*x**2 - 5*x - 5, 1) < x))"
      ]
     },
     "execution_count": 47,
     "metadata": {},
     "output_type": "execute_result"
    }
   ],
   "source": [
    "solve(diff(fx) > 0)\n",
    "#Найти интервалы, на которых функция возрастает"
   ]
  },
  {
   "cell_type": "code",
   "execution_count": 48,
   "metadata": {},
   "outputs": [
    {
     "data": {
      "text/latex": [
       "$\\displaystyle \\left(x < \\infty \\wedge \\operatorname{CRootOf} {\\left(24 x^{3} + 27 x^{2} - 5 x - 5, 2\\right)} < x\\right) \\vee \\left(x < \\operatorname{CRootOf} {\\left(24 x^{3} + 27 x^{2} - 5 x - 5, 1\\right)} \\wedge \\operatorname{CRootOf} {\\left(24 x^{3} + 27 x^{2} - 5 x - 5, 0\\right)} < x\\right)$"
      ],
      "text/plain": [
       "((x < oo) & (CRootOf(24*x**3 + 27*x**2 - 5*x - 5, 2) < x)) | ((x < CRootOf(24*x**3 + 27*x**2 - 5*x - 5, 1)) & (CRootOf(24*x**3 + 27*x**2 - 5*x - 5, 0) < x))"
      ]
     },
     "execution_count": 48,
     "metadata": {},
     "output_type": "execute_result"
    }
   ],
   "source": [
    "solve(diff(fx) < 0)\n",
    "#Найти интервалы, на которых функция убывает"
   ]
  },
  {
   "cell_type": "code",
   "execution_count": 49,
   "metadata": {},
   "outputs": [
    {
     "name": "stdout",
     "output_type": "stream",
     "text": [
      "      0 |                ......................                 \n",
      "        |             ...                      ...              \n",
      "        |           ..                            ..            \n",
      "        |         ..                                ..          \n",
      "        |        /                                    \\         \n",
      "        |       /                                      \\        \n",
      "        |      /                                        \\       \n",
      "        |     .                                          .      \n",
      "        |                                                       \n",
      "        |    .                                            .     \n",
      "-1.05e+ |---.----------------------------------------------.----\n",
      "        |                                                       \n",
      "        |  .                                                .   \n",
      "        |                                                       \n",
      "        | .                                                     \n",
      "        |                                                    .  \n",
      "        |                                                       \n",
      "        |.                                                    . \n",
      "        |                                                       \n",
      "        |                                                       \n",
      "-2.1e+0 |_______________________________________________________\n",
      "         -20                        0                          20\n"
     ]
    }
   ],
   "source": [
    "p = plot(fx, (x, -20,20))\n",
    "#Построить график"
   ]
  },
  {
   "cell_type": "code",
   "execution_count": 50,
   "metadata": {},
   "outputs": [
    {
     "name": "stdout",
     "output_type": "stream",
     "text": [
      "-3/8 + (-1/2 - sqrt(3)*I/2)*(19/1536 + sqrt(108895)*I/3456)**(1/3) + 121/(576*(-1/2 - sqrt(3)*I/2)*(19/1536 + sqrt(108895)*I/3456)**(1/3)) \n",
      " -3/8 + 121/(576*(-1/2 + sqrt(3)*I/2)*(19/1536 + sqrt(108895)*I/3456)**(1/3)) + (-1/2 + sqrt(3)*I/2)*(19/1536 + sqrt(108895)*I/3456)**(1/3) \n",
      " -3/8 + 121/(576*(19/1536 + sqrt(108895)*I/3456)**(1/3)) + (19/1536 + sqrt(108895)*I/3456)**(1/3)\n"
     ]
    }
   ],
   "source": [
    "apex1, apex2, apex3 = solve(diff(fx))\n",
    "print(f'{apex1} \\n {apex2} \\n {apex3}')\n",
    "#Вычислить вершины"
   ]
  },
  {
   "cell_type": "code",
   "execution_count": 51,
   "metadata": {},
   "outputs": [
    {
     "data": {
      "text/latex": [
       "$\\displaystyle \\text{False}$"
      ],
      "text/plain": [
       "False"
      ]
     },
     "execution_count": 51,
     "metadata": {},
     "output_type": "execute_result"
    }
   ],
   "source": [
    "solve(fx > 0)\n",
    "#Определить промежутки, на котором f > 0"
   ]
  },
  {
   "cell_type": "code",
   "execution_count": 52,
   "metadata": {},
   "outputs": [
    {
     "data": {
      "text/latex": [
       "$\\displaystyle -\\infty < x \\wedge x < \\infty$"
      ],
      "text/plain": [
       "(-oo < x) & (x < oo)"
      ]
     },
     "execution_count": 52,
     "metadata": {},
     "output_type": "execute_result"
    }
   ],
   "source": [
    "solve(fx < 0)\n",
    "#Определить промежутки, на котором f < 0"
   ]
  }
 ],
 "metadata": {
  "kernelspec": {
   "display_name": "Python 3",
   "language": "python",
   "name": "python3"
  },
  "language_info": {
   "codemirror_mode": {
    "name": "ipython",
    "version": 3
   },
   "file_extension": ".py",
   "mimetype": "text/x-python",
   "name": "python",
   "nbconvert_exporter": "python",
   "pygments_lexer": "ipython3",
   "version": "3.10.4"
  },
  "orig_nbformat": 4,
  "vscode": {
   "interpreter": {
    "hash": "7af267414df3bc233907a40dbfc09d86fcb7b90b2d5897f812eb953b00a310ce"
   }
  }
 },
 "nbformat": 4,
 "nbformat_minor": 2
}
